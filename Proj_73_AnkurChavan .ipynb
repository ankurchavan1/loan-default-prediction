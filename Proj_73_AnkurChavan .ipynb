{
 "cells": [
  {
   "cell_type": "markdown",
   "metadata": {},
   "source": [
    "# Project: Predict who possible Defaulters are for the Consumer Loans Product\n"
   ]
  },
  {
   "attachments": {},
   "cell_type": "markdown",
   "metadata": {},
   "source": [
    "# Student Details:\n",
    "Name: Ankur Chavan\n",
    "\n",
    "### Problem statement\n",
    "The task at hand is to develop a machine learning model that can accurately predict whether a loan should be approved or rejected, while ensuring that deserving applicants are not denied loans. The verification and validation process used by loan companies is intensive but does not provide complete assurance that a borrower will be able to repay the loan without difficulty. Moreover, the manual procedures used by loan companies to assess loan applications can be time-consuming and inefficient when dealing with large volumes of data. The goal of this project is to create a predictive model that can quickly and effectively determine whether to approve or reject a loan, even when processing a large amount of data.\n"
   ]
  },
  {
   "cell_type": "markdown",
   "metadata": {},
   "source": [
    "### Importing  Modules:"
   ]
  },
  {
   "cell_type": "code",
   "execution_count": 280,
   "metadata": {},
   "outputs": [],
   "source": [
    "import numpy as np  \n",
    "import pandas as pd \n",
    "import os \n",
    "import glob\n",
    "import gc \n",
    "import matplotlib.pyplot as plt \n",
    "import seaborn as sns\n",
    "import math\n",
    "import sklearn\n",
    "%matplotlib inline\n",
    "from sklearn.metrics import confusion_matrix\n",
    "from sklearn import metrics \n",
    "from sklearn.metrics import roc_curve,auc\n"
   ]
  },
  {
   "cell_type": "markdown",
   "metadata": {},
   "source": [
    "### Importing Data"
   ]
  },
  {
   "cell_type": "code",
   "execution_count": 281,
   "metadata": {},
   "outputs": [],
   "source": [
    "# Importing data from csv file\n",
    "df = pd.read_csv(\"Training Data.csv\")"
   ]
  },
  {
   "cell_type": "markdown",
   "metadata": {},
   "source": [
    "### Data Information"
   ]
  },
  {
   "cell_type": "code",
   "execution_count": 282,
   "metadata": {},
   "outputs": [
    {
     "data": {
      "text/plain": [
       "(252000, 13)"
      ]
     },
     "execution_count": 282,
     "metadata": {},
     "output_type": "execute_result"
    }
   ],
   "source": [
    "#Checking the no. of rows and columns in the data:\n",
    "df.shape"
   ]
  },
  {
   "cell_type": "code",
   "execution_count": 283,
   "metadata": {},
   "outputs": [
    {
     "data": {
      "text/html": [
       "<div>\n",
       "<style scoped>\n",
       "    .dataframe tbody tr th:only-of-type {\n",
       "        vertical-align: middle;\n",
       "    }\n",
       "\n",
       "    .dataframe tbody tr th {\n",
       "        vertical-align: top;\n",
       "    }\n",
       "\n",
       "    .dataframe thead th {\n",
       "        text-align: right;\n",
       "    }\n",
       "</style>\n",
       "<table border=\"1\" class=\"dataframe\">\n",
       "  <thead>\n",
       "    <tr style=\"text-align: right;\">\n",
       "      <th></th>\n",
       "      <th>Id</th>\n",
       "      <th>Income</th>\n",
       "      <th>Age</th>\n",
       "      <th>Experience</th>\n",
       "      <th>Married/Single</th>\n",
       "      <th>House_Ownership</th>\n",
       "      <th>Car_Ownership</th>\n",
       "      <th>Profession</th>\n",
       "      <th>CITY</th>\n",
       "      <th>STATE</th>\n",
       "      <th>CURRENT_JOB_YRS</th>\n",
       "      <th>CURRENT_HOUSE_YRS</th>\n",
       "      <th>Risk_Flag</th>\n",
       "    </tr>\n",
       "  </thead>\n",
       "  <tbody>\n",
       "    <tr>\n",
       "      <th>0</th>\n",
       "      <td>1</td>\n",
       "      <td>1303834</td>\n",
       "      <td>23</td>\n",
       "      <td>3</td>\n",
       "      <td>single</td>\n",
       "      <td>rented</td>\n",
       "      <td>no</td>\n",
       "      <td>Mechanical_engineer</td>\n",
       "      <td>Rewa</td>\n",
       "      <td>Madhya_Pradesh</td>\n",
       "      <td>3</td>\n",
       "      <td>13</td>\n",
       "      <td>0</td>\n",
       "    </tr>\n",
       "    <tr>\n",
       "      <th>1</th>\n",
       "      <td>2</td>\n",
       "      <td>7574516</td>\n",
       "      <td>40</td>\n",
       "      <td>10</td>\n",
       "      <td>single</td>\n",
       "      <td>rented</td>\n",
       "      <td>no</td>\n",
       "      <td>Software_Developer</td>\n",
       "      <td>Parbhani</td>\n",
       "      <td>Maharashtra</td>\n",
       "      <td>9</td>\n",
       "      <td>13</td>\n",
       "      <td>0</td>\n",
       "    </tr>\n",
       "    <tr>\n",
       "      <th>2</th>\n",
       "      <td>3</td>\n",
       "      <td>3991815</td>\n",
       "      <td>66</td>\n",
       "      <td>4</td>\n",
       "      <td>married</td>\n",
       "      <td>rented</td>\n",
       "      <td>no</td>\n",
       "      <td>Technical_writer</td>\n",
       "      <td>Alappuzha</td>\n",
       "      <td>Kerala</td>\n",
       "      <td>4</td>\n",
       "      <td>10</td>\n",
       "      <td>0</td>\n",
       "    </tr>\n",
       "    <tr>\n",
       "      <th>3</th>\n",
       "      <td>4</td>\n",
       "      <td>6256451</td>\n",
       "      <td>41</td>\n",
       "      <td>2</td>\n",
       "      <td>single</td>\n",
       "      <td>rented</td>\n",
       "      <td>yes</td>\n",
       "      <td>Software_Developer</td>\n",
       "      <td>Bhubaneswar</td>\n",
       "      <td>Odisha</td>\n",
       "      <td>2</td>\n",
       "      <td>12</td>\n",
       "      <td>1</td>\n",
       "    </tr>\n",
       "    <tr>\n",
       "      <th>4</th>\n",
       "      <td>5</td>\n",
       "      <td>5768871</td>\n",
       "      <td>47</td>\n",
       "      <td>11</td>\n",
       "      <td>single</td>\n",
       "      <td>rented</td>\n",
       "      <td>no</td>\n",
       "      <td>Civil_servant</td>\n",
       "      <td>Tiruchirappalli[10]</td>\n",
       "      <td>Tamil_Nadu</td>\n",
       "      <td>3</td>\n",
       "      <td>14</td>\n",
       "      <td>1</td>\n",
       "    </tr>\n",
       "  </tbody>\n",
       "</table>\n",
       "</div>"
      ],
      "text/plain": [
       "   Id   Income  Age  Experience Married/Single House_Ownership Car_Ownership  \\\n",
       "0   1  1303834   23           3         single          rented            no   \n",
       "1   2  7574516   40          10         single          rented            no   \n",
       "2   3  3991815   66           4        married          rented            no   \n",
       "3   4  6256451   41           2         single          rented           yes   \n",
       "4   5  5768871   47          11         single          rented            no   \n",
       "\n",
       "            Profession                 CITY           STATE  CURRENT_JOB_YRS  \\\n",
       "0  Mechanical_engineer                 Rewa  Madhya_Pradesh                3   \n",
       "1   Software_Developer             Parbhani     Maharashtra                9   \n",
       "2     Technical_writer            Alappuzha          Kerala                4   \n",
       "3   Software_Developer          Bhubaneswar          Odisha                2   \n",
       "4        Civil_servant  Tiruchirappalli[10]      Tamil_Nadu                3   \n",
       "\n",
       "   CURRENT_HOUSE_YRS  Risk_Flag  \n",
       "0                 13          0  \n",
       "1                 13          0  \n",
       "2                 10          0  \n",
       "3                 12          1  \n",
       "4                 14          1  "
      ]
     },
     "execution_count": 283,
     "metadata": {},
     "output_type": "execute_result"
    }
   ],
   "source": [
    "#Checking the first 5 rows of the data:\n",
    "df.head()"
   ]
  },
  {
   "cell_type": "code",
   "execution_count": 284,
   "metadata": {
    "scrolled": true
   },
   "outputs": [
    {
     "name": "stdout",
     "output_type": "stream",
     "text": [
      "<class 'pandas.core.frame.DataFrame'>\n",
      "RangeIndex: 252000 entries, 0 to 251999\n",
      "Data columns (total 13 columns):\n",
      " #   Column             Non-Null Count   Dtype \n",
      "---  ------             --------------   ----- \n",
      " 0   Id                 252000 non-null  int64 \n",
      " 1   Income             252000 non-null  int64 \n",
      " 2   Age                252000 non-null  int64 \n",
      " 3   Experience         252000 non-null  int64 \n",
      " 4   Married/Single     252000 non-null  object\n",
      " 5   House_Ownership    252000 non-null  object\n",
      " 6   Car_Ownership      252000 non-null  object\n",
      " 7   Profession         252000 non-null  object\n",
      " 8   CITY               252000 non-null  object\n",
      " 9   STATE              252000 non-null  object\n",
      " 10  CURRENT_JOB_YRS    252000 non-null  int64 \n",
      " 11  CURRENT_HOUSE_YRS  252000 non-null  int64 \n",
      " 12  Risk_Flag          252000 non-null  int64 \n",
      "dtypes: int64(7), object(6)\n",
      "memory usage: 25.0+ MB\n"
     ]
    }
   ],
   "source": [
    "# Data info:\n",
    "df.info()"
   ]
  },
  {
   "cell_type": "code",
   "execution_count": 285,
   "metadata": {},
   "outputs": [
    {
     "data": {
      "text/html": [
       "<div>\n",
       "<style scoped>\n",
       "    .dataframe tbody tr th:only-of-type {\n",
       "        vertical-align: middle;\n",
       "    }\n",
       "\n",
       "    .dataframe tbody tr th {\n",
       "        vertical-align: top;\n",
       "    }\n",
       "\n",
       "    .dataframe thead th {\n",
       "        text-align: right;\n",
       "    }\n",
       "</style>\n",
       "<table border=\"1\" class=\"dataframe\">\n",
       "  <thead>\n",
       "    <tr style=\"text-align: right;\">\n",
       "      <th></th>\n",
       "      <th>Id</th>\n",
       "      <th>Income</th>\n",
       "      <th>Age</th>\n",
       "      <th>Experience</th>\n",
       "      <th>CURRENT_JOB_YRS</th>\n",
       "      <th>CURRENT_HOUSE_YRS</th>\n",
       "      <th>Risk_Flag</th>\n",
       "    </tr>\n",
       "  </thead>\n",
       "  <tbody>\n",
       "    <tr>\n",
       "      <th>count</th>\n",
       "      <td>252000.000000</td>\n",
       "      <td>2.520000e+05</td>\n",
       "      <td>252000.000000</td>\n",
       "      <td>252000.000000</td>\n",
       "      <td>252000.000000</td>\n",
       "      <td>252000.000000</td>\n",
       "      <td>252000.000000</td>\n",
       "    </tr>\n",
       "    <tr>\n",
       "      <th>mean</th>\n",
       "      <td>126000.500000</td>\n",
       "      <td>4.997117e+06</td>\n",
       "      <td>49.954071</td>\n",
       "      <td>10.084437</td>\n",
       "      <td>6.333877</td>\n",
       "      <td>11.997794</td>\n",
       "      <td>0.123000</td>\n",
       "    </tr>\n",
       "    <tr>\n",
       "      <th>std</th>\n",
       "      <td>72746.278255</td>\n",
       "      <td>2.878311e+06</td>\n",
       "      <td>17.063855</td>\n",
       "      <td>6.002590</td>\n",
       "      <td>3.647053</td>\n",
       "      <td>1.399037</td>\n",
       "      <td>0.328438</td>\n",
       "    </tr>\n",
       "    <tr>\n",
       "      <th>min</th>\n",
       "      <td>1.000000</td>\n",
       "      <td>1.031000e+04</td>\n",
       "      <td>21.000000</td>\n",
       "      <td>0.000000</td>\n",
       "      <td>0.000000</td>\n",
       "      <td>10.000000</td>\n",
       "      <td>0.000000</td>\n",
       "    </tr>\n",
       "    <tr>\n",
       "      <th>25%</th>\n",
       "      <td>63000.750000</td>\n",
       "      <td>2.503015e+06</td>\n",
       "      <td>35.000000</td>\n",
       "      <td>5.000000</td>\n",
       "      <td>3.000000</td>\n",
       "      <td>11.000000</td>\n",
       "      <td>0.000000</td>\n",
       "    </tr>\n",
       "    <tr>\n",
       "      <th>50%</th>\n",
       "      <td>126000.500000</td>\n",
       "      <td>5.000694e+06</td>\n",
       "      <td>50.000000</td>\n",
       "      <td>10.000000</td>\n",
       "      <td>6.000000</td>\n",
       "      <td>12.000000</td>\n",
       "      <td>0.000000</td>\n",
       "    </tr>\n",
       "    <tr>\n",
       "      <th>75%</th>\n",
       "      <td>189000.250000</td>\n",
       "      <td>7.477502e+06</td>\n",
       "      <td>65.000000</td>\n",
       "      <td>15.000000</td>\n",
       "      <td>9.000000</td>\n",
       "      <td>13.000000</td>\n",
       "      <td>0.000000</td>\n",
       "    </tr>\n",
       "    <tr>\n",
       "      <th>max</th>\n",
       "      <td>252000.000000</td>\n",
       "      <td>9.999938e+06</td>\n",
       "      <td>79.000000</td>\n",
       "      <td>20.000000</td>\n",
       "      <td>14.000000</td>\n",
       "      <td>14.000000</td>\n",
       "      <td>1.000000</td>\n",
       "    </tr>\n",
       "  </tbody>\n",
       "</table>\n",
       "</div>"
      ],
      "text/plain": [
       "                  Id        Income            Age     Experience  \\\n",
       "count  252000.000000  2.520000e+05  252000.000000  252000.000000   \n",
       "mean   126000.500000  4.997117e+06      49.954071      10.084437   \n",
       "std     72746.278255  2.878311e+06      17.063855       6.002590   \n",
       "min         1.000000  1.031000e+04      21.000000       0.000000   \n",
       "25%     63000.750000  2.503015e+06      35.000000       5.000000   \n",
       "50%    126000.500000  5.000694e+06      50.000000      10.000000   \n",
       "75%    189000.250000  7.477502e+06      65.000000      15.000000   \n",
       "max    252000.000000  9.999938e+06      79.000000      20.000000   \n",
       "\n",
       "       CURRENT_JOB_YRS  CURRENT_HOUSE_YRS      Risk_Flag  \n",
       "count    252000.000000      252000.000000  252000.000000  \n",
       "mean          6.333877          11.997794       0.123000  \n",
       "std           3.647053           1.399037       0.328438  \n",
       "min           0.000000          10.000000       0.000000  \n",
       "25%           3.000000          11.000000       0.000000  \n",
       "50%           6.000000          12.000000       0.000000  \n",
       "75%           9.000000          13.000000       0.000000  \n",
       "max          14.000000          14.000000       1.000000  "
      ]
     },
     "execution_count": 285,
     "metadata": {},
     "output_type": "execute_result"
    }
   ],
   "source": [
    "# Data description for numeric features:\n",
    "df.describe()"
   ]
  },
  {
   "cell_type": "code",
   "execution_count": 286,
   "metadata": {},
   "outputs": [
    {
     "data": {
      "text/html": [
       "<div>\n",
       "<style scoped>\n",
       "    .dataframe tbody tr th:only-of-type {\n",
       "        vertical-align: middle;\n",
       "    }\n",
       "\n",
       "    .dataframe tbody tr th {\n",
       "        vertical-align: top;\n",
       "    }\n",
       "\n",
       "    .dataframe thead th {\n",
       "        text-align: right;\n",
       "    }\n",
       "</style>\n",
       "<table border=\"1\" class=\"dataframe\">\n",
       "  <thead>\n",
       "    <tr style=\"text-align: right;\">\n",
       "      <th></th>\n",
       "      <th>count</th>\n",
       "      <th>unique</th>\n",
       "      <th>top</th>\n",
       "      <th>freq</th>\n",
       "    </tr>\n",
       "  </thead>\n",
       "  <tbody>\n",
       "    <tr>\n",
       "      <th>Married/Single</th>\n",
       "      <td>252000</td>\n",
       "      <td>2</td>\n",
       "      <td>single</td>\n",
       "      <td>226272</td>\n",
       "    </tr>\n",
       "    <tr>\n",
       "      <th>House_Ownership</th>\n",
       "      <td>252000</td>\n",
       "      <td>3</td>\n",
       "      <td>rented</td>\n",
       "      <td>231898</td>\n",
       "    </tr>\n",
       "    <tr>\n",
       "      <th>Car_Ownership</th>\n",
       "      <td>252000</td>\n",
       "      <td>2</td>\n",
       "      <td>no</td>\n",
       "      <td>176000</td>\n",
       "    </tr>\n",
       "    <tr>\n",
       "      <th>Profession</th>\n",
       "      <td>252000</td>\n",
       "      <td>51</td>\n",
       "      <td>Physician</td>\n",
       "      <td>5957</td>\n",
       "    </tr>\n",
       "    <tr>\n",
       "      <th>CITY</th>\n",
       "      <td>252000</td>\n",
       "      <td>317</td>\n",
       "      <td>Vijayanagaram</td>\n",
       "      <td>1259</td>\n",
       "    </tr>\n",
       "    <tr>\n",
       "      <th>STATE</th>\n",
       "      <td>252000</td>\n",
       "      <td>29</td>\n",
       "      <td>Uttar_Pradesh</td>\n",
       "      <td>28400</td>\n",
       "    </tr>\n",
       "  </tbody>\n",
       "</table>\n",
       "</div>"
      ],
      "text/plain": [
       "                  count unique            top    freq\n",
       "Married/Single   252000      2         single  226272\n",
       "House_Ownership  252000      3         rented  231898\n",
       "Car_Ownership    252000      2             no  176000\n",
       "Profession       252000     51      Physician    5957\n",
       "CITY             252000    317  Vijayanagaram    1259\n",
       "STATE            252000     29  Uttar_Pradesh   28400"
      ]
     },
     "execution_count": 286,
     "metadata": {},
     "output_type": "execute_result"
    }
   ],
   "source": [
    "# Data description for categorical features (Object dtype):\n",
    "df.describe(include=['O']).T "
   ]
  },
  {
   "cell_type": "code",
   "execution_count": 287,
   "metadata": {},
   "outputs": [
    {
     "data": {
      "text/plain": [
       "Id                   0\n",
       "Income               0\n",
       "Age                  0\n",
       "Experience           0\n",
       "Married/Single       0\n",
       "House_Ownership      0\n",
       "Car_Ownership        0\n",
       "Profession           0\n",
       "CITY                 0\n",
       "STATE                0\n",
       "CURRENT_JOB_YRS      0\n",
       "CURRENT_HOUSE_YRS    0\n",
       "Risk_Flag            0\n",
       "dtype: int64"
      ]
     },
     "execution_count": 287,
     "metadata": {},
     "output_type": "execute_result"
    }
   ],
   "source": [
    "#Checking null values:\n",
    "df.isnull().sum()"
   ]
  },
  {
   "cell_type": "code",
   "execution_count": 288,
   "metadata": {
    "scrolled": true
   },
   "outputs": [
    {
     "data": {
      "text/plain": [
       "Index(['Id', 'Income', 'Age', 'Experience', 'Married/Single',\n",
       "       'House_Ownership', 'Car_Ownership', 'Profession', 'CITY', 'STATE',\n",
       "       'CURRENT_JOB_YRS', 'CURRENT_HOUSE_YRS', 'Risk_Flag'],\n",
       "      dtype='object')"
      ]
     },
     "execution_count": 288,
     "metadata": {},
     "output_type": "execute_result"
    }
   ],
   "source": [
    "# Checking Column names:\n",
    "df.columns"
   ]
  },
  {
   "cell_type": "code",
   "execution_count": 289,
   "metadata": {},
   "outputs": [
    {
     "data": {
      "text/plain": [
       "0    221004\n",
       "1     30996\n",
       "Name: Risk_Flag, dtype: int64"
      ]
     },
     "execution_count": 289,
     "metadata": {},
     "output_type": "execute_result"
    }
   ],
   "source": [
    "#Checking the distribution of the 'Risk_Flag' variable:\n",
    "df[\"Risk_Flag\"].value_counts()"
   ]
  },
  {
   "cell_type": "code",
   "execution_count": 290,
   "metadata": {},
   "outputs": [
    {
     "name": "stdout",
     "output_type": "stream",
     "text": [
      "0    87.7\n",
      "1    12.3\n",
      "Name: Risk_Flag, dtype: float64\n"
     ]
    }
   ],
   "source": [
    "# Distribution of Risk_Flag variable:\n",
    "counts = df[\"Risk_Flag\"].value_counts()\n",
    "percentages = counts / counts.sum() * 100\n",
    "print(percentages)"
   ]
  },
  {
   "cell_type": "markdown",
   "metadata": {},
   "source": [
    "### Exploratory Data Analysis"
   ]
  },
  {
   "cell_type": "code",
   "execution_count": 291,
   "metadata": {},
   "outputs": [
    {
     "data": {
      "text/plain": [
       "array(['Madhya_Pradesh', 'Maharashtra', 'Kerala', 'Odisha', 'Tamil_Nadu',\n",
       "       'Gujarat', 'Rajasthan', 'Telangana', 'Bihar', 'Andhra_Pradesh',\n",
       "       'West_Bengal', 'Haryana', 'Puducherry', 'Karnataka',\n",
       "       'Uttar_Pradesh', 'Himachal_Pradesh', 'Punjab', 'Tripura',\n",
       "       'Uttarakhand', 'Jharkhand', 'Mizoram', 'Assam',\n",
       "       'Jammu_and_Kashmir', 'Delhi', 'Chhattisgarh', 'Chandigarh',\n",
       "       'Uttar_Pradesh[5]', 'Manipur', 'Sikkim'], dtype=object)"
      ]
     },
     "execution_count": 291,
     "metadata": {},
     "output_type": "execute_result"
    }
   ],
   "source": [
    "# Names of Unique states:\n",
    "df['STATE'].unique()"
   ]
  },
  {
   "cell_type": "code",
   "execution_count": 292,
   "metadata": {},
   "outputs": [
    {
     "data": {
      "text/plain": [
       "29"
      ]
     },
     "execution_count": 292,
     "metadata": {},
     "output_type": "execute_result"
    }
   ],
   "source": [
    "# Number of Unique states:\n",
    "len(df['STATE'].unique())"
   ]
  },
  {
   "cell_type": "code",
   "execution_count": 293,
   "metadata": {},
   "outputs": [
    {
     "data": {
      "text/plain": [
       "Uttar_Pradesh        28400\n",
       "Maharashtra          25562\n",
       "Andhra_Pradesh       25297\n",
       "West_Bengal          23483\n",
       "Bihar                19780\n",
       "Tamil_Nadu           16537\n",
       "Madhya_Pradesh       14122\n",
       "Karnataka            11855\n",
       "Gujarat              11408\n",
       "Rajasthan             9174\n",
       "Jharkhand             8965\n",
       "Haryana               7890\n",
       "Telangana             7524\n",
       "Assam                 7062\n",
       "Kerala                5805\n",
       "Delhi                 5490\n",
       "Punjab                4720\n",
       "Odisha                4658\n",
       "Chhattisgarh          3834\n",
       "Uttarakhand           1874\n",
       "Jammu_and_Kashmir     1780\n",
       "Puducherry            1433\n",
       "Mizoram                849\n",
       "Manipur                849\n",
       "Himachal_Pradesh       833\n",
       "Tripura                809\n",
       "Uttar_Pradesh[5]       743\n",
       "Chandigarh             656\n",
       "Sikkim                 608\n",
       "Name: STATE, dtype: int64"
      ]
     },
     "execution_count": 293,
     "metadata": {},
     "output_type": "execute_result"
    }
   ],
   "source": [
    "# State wise data distribution:\n",
    "df['STATE'].value_counts()"
   ]
  },
  {
   "cell_type": "code",
   "execution_count": 294,
   "metadata": {},
   "outputs": [
    {
     "data": {
      "text/plain": [
       "317"
      ]
     },
     "execution_count": 294,
     "metadata": {},
     "output_type": "execute_result"
    }
   ],
   "source": [
    "# Number of Unique cities:\n",
    "len(df['CITY'].unique())"
   ]
  },
  {
   "cell_type": "code",
   "execution_count": 295,
   "metadata": {},
   "outputs": [
    {
     "data": {
      "text/plain": [
       "Vijayanagaram       1259\n",
       "Bhopal              1208\n",
       "Bulandshahr         1185\n",
       "Saharsa[29]         1180\n",
       "Vijayawada          1172\n",
       "                    ... \n",
       "Ujjain               486\n",
       "Warangal[11][12]     459\n",
       "Bettiah[33]          457\n",
       "Katni                448\n",
       "Karaikudi            431\n",
       "Name: CITY, Length: 317, dtype: int64"
      ]
     },
     "execution_count": 295,
     "metadata": {},
     "output_type": "execute_result"
    }
   ],
   "source": [
    "# City wise data distribution\n",
    "df['CITY'].value_counts()"
   ]
  },
  {
   "cell_type": "code",
   "execution_count": 296,
   "metadata": {},
   "outputs": [],
   "source": [
    "#lowercase all the datapoints:\n",
    "\n",
    "for column in df.columns:\n",
    "    if df[column].dtype=='object':\n",
    "        df[column]=df[column].apply(str.lower)"
   ]
  },
  {
   "cell_type": "code",
   "execution_count": 297,
   "metadata": {},
   "outputs": [],
   "source": [
    "#keep only alphabetical charaters and remove rest in state and city columns:\n",
    "\n",
    "df['CITY'] = df['CITY'].str.replace(r'[^a-zA-Z]', ' ', regex=True)\n",
    "df['STATE'] = df['STATE'].str.replace(r'[^a-zA-Z]', ' ', regex=True)\n",
    "\n",
    "#remove all leadind and trailing spaces\n",
    "df['CITY'] = df['CITY'].str.replace(r'^\\s+|\\s+$', '', regex=True)\n",
    "df['STATE'] = df['STATE'].str.replace(r'^\\s+|\\s+$', '', regex=True)"
   ]
  },
  {
   "cell_type": "code",
   "execution_count": 298,
   "metadata": {},
   "outputs": [
    {
     "name": "stdout",
     "output_type": "stream",
     "text": [
      "316\n",
      "28\n"
     ]
    }
   ],
   "source": [
    "# Check for unique values after data cleaning:\n",
    "print(df.CITY.nunique())\n",
    "print(df.STATE.nunique())"
   ]
  },
  {
   "cell_type": "code",
   "execution_count": 299,
   "metadata": {},
   "outputs": [
    {
     "data": {
      "text/html": [
       "<div>\n",
       "<style scoped>\n",
       "    .dataframe tbody tr th:only-of-type {\n",
       "        vertical-align: middle;\n",
       "    }\n",
       "\n",
       "    .dataframe tbody tr th {\n",
       "        vertical-align: top;\n",
       "    }\n",
       "\n",
       "    .dataframe thead th {\n",
       "        text-align: right;\n",
       "    }\n",
       "</style>\n",
       "<table border=\"1\" class=\"dataframe\">\n",
       "  <thead>\n",
       "    <tr style=\"text-align: right;\">\n",
       "      <th></th>\n",
       "      <th>Risk_Flag</th>\n",
       "    </tr>\n",
       "    <tr>\n",
       "      <th>CITY</th>\n",
       "      <th></th>\n",
       "    </tr>\n",
       "  </thead>\n",
       "  <tbody>\n",
       "    <tr>\n",
       "      <th>bhubaneswar</th>\n",
       "      <td>32.619440</td>\n",
       "    </tr>\n",
       "    <tr>\n",
       "      <th>gwalior</th>\n",
       "      <td>27.272727</td>\n",
       "    </tr>\n",
       "    <tr>\n",
       "      <th>bettiah</th>\n",
       "      <td>26.695842</td>\n",
       "    </tr>\n",
       "    <tr>\n",
       "      <th>kochi</th>\n",
       "      <td>25.286160</td>\n",
       "    </tr>\n",
       "    <tr>\n",
       "      <th>raiganj</th>\n",
       "      <td>23.955432</td>\n",
       "    </tr>\n",
       "    <tr>\n",
       "      <th>purnia</th>\n",
       "      <td>23.886640</td>\n",
       "    </tr>\n",
       "    <tr>\n",
       "      <th>barasat</th>\n",
       "      <td>23.870220</td>\n",
       "    </tr>\n",
       "    <tr>\n",
       "      <th>sikar</th>\n",
       "      <td>23.845194</td>\n",
       "    </tr>\n",
       "    <tr>\n",
       "      <th>buxar</th>\n",
       "      <td>23.147208</td>\n",
       "    </tr>\n",
       "    <tr>\n",
       "      <th>satna</th>\n",
       "      <td>22.568093</td>\n",
       "    </tr>\n",
       "    <tr>\n",
       "      <th>kottayam</th>\n",
       "      <td>22.536946</td>\n",
       "    </tr>\n",
       "    <tr>\n",
       "      <th>kavali</th>\n",
       "      <td>22.506083</td>\n",
       "    </tr>\n",
       "    <tr>\n",
       "      <th>mysore</th>\n",
       "      <td>22.056834</td>\n",
       "    </tr>\n",
       "    <tr>\n",
       "      <th>bardhaman</th>\n",
       "      <td>21.915820</td>\n",
       "    </tr>\n",
       "    <tr>\n",
       "      <th>gandhidham</th>\n",
       "      <td>21.646746</td>\n",
       "    </tr>\n",
       "  </tbody>\n",
       "</table>\n",
       "</div>"
      ],
      "text/plain": [
       "             Risk_Flag\n",
       "CITY                  \n",
       "bhubaneswar  32.619440\n",
       "gwalior      27.272727\n",
       "bettiah      26.695842\n",
       "kochi        25.286160\n",
       "raiganj      23.955432\n",
       "purnia       23.886640\n",
       "barasat      23.870220\n",
       "sikar        23.845194\n",
       "buxar        23.147208\n",
       "satna        22.568093\n",
       "kottayam     22.536946\n",
       "kavali       22.506083\n",
       "mysore       22.056834\n",
       "bardhaman    21.915820\n",
       "gandhidham   21.646746"
      ]
     },
     "execution_count": 299,
     "metadata": {},
     "output_type": "execute_result"
    }
   ],
   "source": [
    "# The average risk percentage of each city\n",
    "df.groupby([\"CITY\"]).Risk_Flag.apply(lambda x: (x.sum() / x.size) * 100).sort_values(ascending=False).to_frame().head(15)"
   ]
  },
  {
   "cell_type": "code",
   "execution_count": 300,
   "metadata": {},
   "outputs": [
    {
     "data": {
      "text/html": [
       "<div>\n",
       "<style scoped>\n",
       "    .dataframe tbody tr th:only-of-type {\n",
       "        vertical-align: middle;\n",
       "    }\n",
       "\n",
       "    .dataframe tbody tr th {\n",
       "        vertical-align: top;\n",
       "    }\n",
       "\n",
       "    .dataframe thead th {\n",
       "        text-align: right;\n",
       "    }\n",
       "</style>\n",
       "<table border=\"1\" class=\"dataframe\">\n",
       "  <thead>\n",
       "    <tr style=\"text-align: right;\">\n",
       "      <th></th>\n",
       "      <th>Risk_Flag</th>\n",
       "    </tr>\n",
       "    <tr>\n",
       "      <th>CITY</th>\n",
       "      <th></th>\n",
       "    </tr>\n",
       "  </thead>\n",
       "  <tbody>\n",
       "    <tr>\n",
       "      <th>katni</th>\n",
       "      <td>4.687500</td>\n",
       "    </tr>\n",
       "    <tr>\n",
       "      <th>panihati</th>\n",
       "      <td>4.659091</td>\n",
       "    </tr>\n",
       "    <tr>\n",
       "      <th>gangtok</th>\n",
       "      <td>4.605263</td>\n",
       "    </tr>\n",
       "    <tr>\n",
       "      <th>bareilly</th>\n",
       "      <td>4.247104</td>\n",
       "    </tr>\n",
       "    <tr>\n",
       "      <th>berhampur</th>\n",
       "      <td>4.241436</td>\n",
       "    </tr>\n",
       "    <tr>\n",
       "      <th>belgaum</th>\n",
       "      <td>4.166667</td>\n",
       "    </tr>\n",
       "    <tr>\n",
       "      <th>latur</th>\n",
       "      <td>3.965517</td>\n",
       "    </tr>\n",
       "    <tr>\n",
       "      <th>mehsana</th>\n",
       "      <td>3.917051</td>\n",
       "    </tr>\n",
       "    <tr>\n",
       "      <th>mira bhayandar</th>\n",
       "      <td>3.862661</td>\n",
       "    </tr>\n",
       "    <tr>\n",
       "      <th>rajpur sonarpur</th>\n",
       "      <td>3.856041</td>\n",
       "    </tr>\n",
       "    <tr>\n",
       "      <th>bangalore</th>\n",
       "      <td>3.713893</td>\n",
       "    </tr>\n",
       "    <tr>\n",
       "      <th>bijapur</th>\n",
       "      <td>3.496503</td>\n",
       "    </tr>\n",
       "    <tr>\n",
       "      <th>sultan pur majra</th>\n",
       "      <td>3.409091</td>\n",
       "    </tr>\n",
       "    <tr>\n",
       "      <th>dehradun</th>\n",
       "      <td>2.634593</td>\n",
       "    </tr>\n",
       "    <tr>\n",
       "      <th>gandhinagar</th>\n",
       "      <td>2.611367</td>\n",
       "    </tr>\n",
       "  </tbody>\n",
       "</table>\n",
       "</div>"
      ],
      "text/plain": [
       "                  Risk_Flag\n",
       "CITY                       \n",
       "katni              4.687500\n",
       "panihati           4.659091\n",
       "gangtok            4.605263\n",
       "bareilly           4.247104\n",
       "berhampur          4.241436\n",
       "belgaum            4.166667\n",
       "latur              3.965517\n",
       "mehsana            3.917051\n",
       "mira bhayandar     3.862661\n",
       "rajpur sonarpur    3.856041\n",
       "bangalore          3.713893\n",
       "bijapur            3.496503\n",
       "sultan pur majra   3.409091\n",
       "dehradun           2.634593\n",
       "gandhinagar        2.611367"
      ]
     },
     "execution_count": 300,
     "metadata": {},
     "output_type": "execute_result"
    }
   ],
   "source": [
    "# The average risk percentage of each city\n",
    "df.groupby([\"CITY\"]).Risk_Flag.apply(lambda x: (x.sum() / x.size) * 100).sort_values(ascending=False).to_frame().tail(15)"
   ]
  },
  {
   "cell_type": "code",
   "execution_count": 301,
   "metadata": {},
   "outputs": [
    {
     "data": {
      "text/html": [
       "<div>\n",
       "<style scoped>\n",
       "    .dataframe tbody tr th:only-of-type {\n",
       "        vertical-align: middle;\n",
       "    }\n",
       "\n",
       "    .dataframe tbody tr th {\n",
       "        vertical-align: top;\n",
       "    }\n",
       "\n",
       "    .dataframe thead th {\n",
       "        text-align: right;\n",
       "    }\n",
       "</style>\n",
       "<table border=\"1\" class=\"dataframe\">\n",
       "  <thead>\n",
       "    <tr style=\"text-align: right;\">\n",
       "      <th></th>\n",
       "      <th>Risk_Flag</th>\n",
       "    </tr>\n",
       "    <tr>\n",
       "      <th>STATE</th>\n",
       "      <th></th>\n",
       "    </tr>\n",
       "  </thead>\n",
       "  <tbody>\n",
       "    <tr>\n",
       "      <th>manipur</th>\n",
       "      <td>21.554770</td>\n",
       "    </tr>\n",
       "    <tr>\n",
       "      <th>tripura</th>\n",
       "      <td>16.810878</td>\n",
       "    </tr>\n",
       "    <tr>\n",
       "      <th>kerala</th>\n",
       "      <td>16.709733</td>\n",
       "    </tr>\n",
       "    <tr>\n",
       "      <th>jammu and kashmir</th>\n",
       "      <td>15.898876</td>\n",
       "    </tr>\n",
       "    <tr>\n",
       "      <th>madhya pradesh</th>\n",
       "      <td>15.436907</td>\n",
       "    </tr>\n",
       "    <tr>\n",
       "      <th>odisha</th>\n",
       "      <td>14.255045</td>\n",
       "    </tr>\n",
       "    <tr>\n",
       "      <th>rajasthan</th>\n",
       "      <td>14.083279</td>\n",
       "    </tr>\n",
       "    <tr>\n",
       "      <th>jharkhand</th>\n",
       "      <td>13.329615</td>\n",
       "    </tr>\n",
       "    <tr>\n",
       "      <th>chhattisgarh</th>\n",
       "      <td>13.328117</td>\n",
       "    </tr>\n",
       "    <tr>\n",
       "      <th>himachal pradesh</th>\n",
       "      <td>13.325330</td>\n",
       "    </tr>\n",
       "    <tr>\n",
       "      <th>assam</th>\n",
       "      <td>13.169074</td>\n",
       "    </tr>\n",
       "    <tr>\n",
       "      <th>bihar</th>\n",
       "      <td>13.058645</td>\n",
       "    </tr>\n",
       "    <tr>\n",
       "      <th>telangana</th>\n",
       "      <td>13.011696</td>\n",
       "    </tr>\n",
       "    <tr>\n",
       "      <th>west bengal</th>\n",
       "      <td>12.813525</td>\n",
       "    </tr>\n",
       "    <tr>\n",
       "      <th>haryana</th>\n",
       "      <td>12.420786</td>\n",
       "    </tr>\n",
       "  </tbody>\n",
       "</table>\n",
       "</div>"
      ],
      "text/plain": [
       "                   Risk_Flag\n",
       "STATE                       \n",
       "manipur            21.554770\n",
       "tripura            16.810878\n",
       "kerala             16.709733\n",
       "jammu and kashmir  15.898876\n",
       "madhya pradesh     15.436907\n",
       "odisha             14.255045\n",
       "rajasthan          14.083279\n",
       "jharkhand          13.329615\n",
       "chhattisgarh       13.328117\n",
       "himachal pradesh   13.325330\n",
       "assam              13.169074\n",
       "bihar              13.058645\n",
       "telangana          13.011696\n",
       "west bengal        12.813525\n",
       "haryana            12.420786"
      ]
     },
     "execution_count": 301,
     "metadata": {},
     "output_type": "execute_result"
    }
   ],
   "source": [
    "# The average risk percentage of each state\n",
    "df.groupby(\"STATE\").Risk_Flag.apply(lambda x: (x.sum() / x.size) * 100).sort_values(ascending=False).to_frame().head(15)"
   ]
  },
  {
   "cell_type": "code",
   "execution_count": 302,
   "metadata": {},
   "outputs": [
    {
     "data": {
      "text/html": [
       "<div>\n",
       "<style scoped>\n",
       "    .dataframe tbody tr th:only-of-type {\n",
       "        vertical-align: middle;\n",
       "    }\n",
       "\n",
       "    .dataframe tbody tr th {\n",
       "        vertical-align: top;\n",
       "    }\n",
       "\n",
       "    .dataframe thead th {\n",
       "        text-align: right;\n",
       "    }\n",
       "</style>\n",
       "<table border=\"1\" class=\"dataframe\">\n",
       "  <thead>\n",
       "    <tr style=\"text-align: right;\">\n",
       "      <th></th>\n",
       "      <th>Risk_Flag</th>\n",
       "    </tr>\n",
       "    <tr>\n",
       "      <th>STATE</th>\n",
       "      <th></th>\n",
       "    </tr>\n",
       "  </thead>\n",
       "  <tbody>\n",
       "    <tr>\n",
       "      <th>west bengal</th>\n",
       "      <td>12.813525</td>\n",
       "    </tr>\n",
       "    <tr>\n",
       "      <th>haryana</th>\n",
       "      <td>12.420786</td>\n",
       "    </tr>\n",
       "    <tr>\n",
       "      <th>uttar pradesh</th>\n",
       "      <td>11.803864</td>\n",
       "    </tr>\n",
       "    <tr>\n",
       "      <th>gujarat</th>\n",
       "      <td>11.772440</td>\n",
       "    </tr>\n",
       "    <tr>\n",
       "      <th>puducherry</th>\n",
       "      <td>11.653873</td>\n",
       "    </tr>\n",
       "    <tr>\n",
       "      <th>andhra pradesh</th>\n",
       "      <td>11.602166</td>\n",
       "    </tr>\n",
       "    <tr>\n",
       "      <th>maharashtra</th>\n",
       "      <td>11.325405</td>\n",
       "    </tr>\n",
       "    <tr>\n",
       "      <th>mizoram</th>\n",
       "      <td>11.071849</td>\n",
       "    </tr>\n",
       "    <tr>\n",
       "      <th>delhi</th>\n",
       "      <td>10.455373</td>\n",
       "    </tr>\n",
       "    <tr>\n",
       "      <th>tamil nadu</th>\n",
       "      <td>10.316261</td>\n",
       "    </tr>\n",
       "    <tr>\n",
       "      <th>karnataka</th>\n",
       "      <td>10.029523</td>\n",
       "    </tr>\n",
       "    <tr>\n",
       "      <th>chandigarh</th>\n",
       "      <td>9.298780</td>\n",
       "    </tr>\n",
       "    <tr>\n",
       "      <th>punjab</th>\n",
       "      <td>9.004237</td>\n",
       "    </tr>\n",
       "    <tr>\n",
       "      <th>uttarakhand</th>\n",
       "      <td>7.097118</td>\n",
       "    </tr>\n",
       "    <tr>\n",
       "      <th>sikkim</th>\n",
       "      <td>4.605263</td>\n",
       "    </tr>\n",
       "  </tbody>\n",
       "</table>\n",
       "</div>"
      ],
      "text/plain": [
       "                Risk_Flag\n",
       "STATE                    \n",
       "west bengal     12.813525\n",
       "haryana         12.420786\n",
       "uttar pradesh   11.803864\n",
       "gujarat         11.772440\n",
       "puducherry      11.653873\n",
       "andhra pradesh  11.602166\n",
       "maharashtra     11.325405\n",
       "mizoram         11.071849\n",
       "delhi           10.455373\n",
       "tamil nadu      10.316261\n",
       "karnataka       10.029523\n",
       "chandigarh       9.298780\n",
       "punjab           9.004237\n",
       "uttarakhand      7.097118\n",
       "sikkim           4.605263"
      ]
     },
     "execution_count": 302,
     "metadata": {},
     "output_type": "execute_result"
    }
   ],
   "source": [
    "# The average risk percentage of each state\n",
    "df.groupby(\"STATE\").Risk_Flag.apply(lambda x: (x.sum() / x.size) * 100).sort_values(ascending=False).to_frame().tail(15)"
   ]
  },
  {
   "cell_type": "code",
   "execution_count": 303,
   "metadata": {},
   "outputs": [
    {
     "name": "stderr",
     "output_type": "stream",
     "text": [
      "C:\\Users\\ankur\\anaconda3\\lib\\site-packages\\seaborn\\_decorators.py:36: FutureWarning: Pass the following variable as a keyword arg: x. From version 0.12, the only valid positional argument will be `data`, and passing other arguments without an explicit keyword will result in an error or misinterpretation.\n",
      "  warnings.warn(\n"
     ]
    },
    {
     "data": {
      "text/plain": [
       "<AxesSubplot:xlabel='Income'>"
      ]
     },
     "execution_count": 303,
     "metadata": {},
     "output_type": "execute_result"
    },
    {
     "data": {
      "image/png": "[encoded data removed]",
      "text/plain": [
       "<Figure size 432x288 with 1 Axes>"
      ]
     },
     "metadata": {
      "needs_background": "light"
     },
     "output_type": "display_data"
    }
   ],
   "source": [
    "sns.boxplot(df.Income)"
   ]
  },
  {
   "cell_type": "code",
   "execution_count": 304,
   "metadata": {},
   "outputs": [
    {
     "name": "stderr",
     "output_type": "stream",
     "text": [
      "C:\\Users\\ankur\\anaconda3\\lib\\site-packages\\seaborn\\_decorators.py:36: FutureWarning: Pass the following variable as a keyword arg: x. From version 0.12, the only valid positional argument will be `data`, and passing other arguments without an explicit keyword will result in an error or misinterpretation.\n",
      "  warnings.warn(\n"
     ]
    },
    {
     "data": {
      "text/plain": [
       "<AxesSubplot:xlabel='Age'>"
      ]
     },
     "execution_count": 304,
     "metadata": {},
     "output_type": "execute_result"
    },
    {
     "data": {
      "image/png": "[encoded data removed]",
      "text/plain": [
       "<Figure size 432x288 with 1 Axes>"
      ]
     },
     "metadata": {
      "needs_background": "light"
     },
     "output_type": "display_data"
    }
   ],
   "source": [
    "sns.boxplot(df.Age)"
   ]
  },
  {
   "cell_type": "code",
   "execution_count": 305,
   "metadata": {},
   "outputs": [
    {
     "name": "stderr",
     "output_type": "stream",
     "text": [
      "C:\\Users\\ankur\\anaconda3\\lib\\site-packages\\seaborn\\_decorators.py:36: FutureWarning: Pass the following variable as a keyword arg: x. From version 0.12, the only valid positional argument will be `data`, and passing other arguments without an explicit keyword will result in an error or misinterpretation.\n",
      "  warnings.warn(\n"
     ]
    },
    {
     "data": {
      "text/plain": [
       "<AxesSubplot:xlabel='Experience'>"
      ]
     },
     "execution_count": 305,
     "metadata": {},
     "output_type": "execute_result"
    },
    {
     "data": {
      "image/png": "[encoded data removed]",
      "text/plain": [
       "<Figure size 432x288 with 1 Axes>"
      ]
     },
     "metadata": {
      "needs_background": "light"
     },
     "output_type": "display_data"
    }
   ],
   "source": [
    "sns.boxplot(df.Experience)"
   ]
  },
  {
   "cell_type": "code",
   "execution_count": 306,
   "metadata": {},
   "outputs": [],
   "source": [
    "# Function to plot percentage count plot \n",
    "\n",
    "def percentage_plt(ax, total):\n",
    "    for i in ax.patches:\n",
    "        percent = '{:.1f}%'.format(100 * i.get_height()/total)\n",
    "        x_n = i.get_x() + i.get_width()\n",
    "        y_n = i.get_height()\n",
    "        ax.annotate(percent, (x_n, y_n))\n",
    "    plt.show()"
   ]
  },
  {
   "cell_type": "code",
   "execution_count": 307,
   "metadata": {},
   "outputs": [
    {
     "data": {
      "image/png": "[encoded data removed]",
      "text/plain": [
       "<Figure size 648x432 with 1 Axes>"
      ]
     },
     "metadata": {
      "needs_background": "light"
     },
     "output_type": "display_data"
    }
   ],
   "source": [
    "# Risk Flag\n",
    "total = float(len(df))\n",
    "\n",
    "sns.FacetGrid('greygrid', height=6, aspect=1.5)\n",
    "ax=sns.countplot(data=df, hue='Risk_Flag', x='Risk_Flag')\n",
    "percentage_plt(ax, total)"
   ]
  },
  {
   "cell_type": "code",
   "execution_count": 308,
   "metadata": {},
   "outputs": [
    {
     "data": {
      "image/png": "[encoded data removed]",
      "text/plain": [
       "<Figure size 648x432 with 1 Axes>"
      ]
     },
     "metadata": {
      "needs_background": "light"
     },
     "output_type": "display_data"
    }
   ],
   "source": [
    "# Marriage status vs Risk Flag\n",
    "sns.FacetGrid('whitegrid', height=6, aspect=1.5)\n",
    "ax=sns.countplot(data=df, hue='Risk_Flag', x='Married/Single')\n",
    "percentage_plt(ax, total)"
   ]
  },
  {
   "cell_type": "code",
   "execution_count": 309,
   "metadata": {},
   "outputs": [
    {
     "data": {
      "image/png": "[encoded data removed]",
      "text/plain": [
       "<Figure size 648x432 with 1 Axes>"
      ]
     },
     "metadata": {
      "needs_background": "light"
     },
     "output_type": "display_data"
    }
   ],
   "source": [
    "# car ownership vs Risk Flag\n",
    "sns.FacetGrid('whitegrid', height=6, aspect=1.5)\n",
    "ax=sns.countplot(data=df, hue='Risk_Flag', x='Car_Ownership')\n",
    "percentage_plt(ax, total)"
   ]
  },
  {
   "cell_type": "code",
   "execution_count": 310,
   "metadata": {},
   "outputs": [
    {
     "data": {
      "image/png": "[encoded data removed]",
      "text/plain": [
       "<Figure size 576x432 with 1 Axes>"
      ]
     },
     "metadata": {
      "needs_background": "light"
     },
     "output_type": "display_data"
    }
   ],
   "source": [
    "# House ownership vs Risk Flag\n",
    "plt.figure(figsize=(8,6))\n",
    "ax=sns.countplot(data=data, hue='Risk_Flag', x='House_Ownership')\n",
    "percentage_plt(ax, total)"
   ]
  },
  {
   "cell_type": "code",
   "execution_count": 311,
   "metadata": {},
   "outputs": [
    {
     "data": {
      "text/plain": [
       "7478"
      ]
     },
     "execution_count": 311,
     "metadata": {},
     "output_type": "execute_result"
    }
   ],
   "source": [
    "#Number of customers that have income less that 2 Lakhs per year\n",
    "df['Income'][df['Income']<300000].count()"
   ]
  },
  {
   "cell_type": "code",
   "execution_count": 312,
   "metadata": {},
   "outputs": [
    {
     "data": {
      "text/plain": [
       "11    51873\n",
       "12    51791\n",
       "13    50659\n",
       "14    49003\n",
       "10    48674\n",
       "Name: CURRENT_HOUSE_YRS, dtype: int64"
      ]
     },
     "execution_count": 312,
     "metadata": {},
     "output_type": "execute_result"
    }
   ],
   "source": [
    "# Number of house owners for each year\n",
    "df.CURRENT_HOUSE_YRS.value_counts()"
   ]
  },
  {
   "cell_type": "code",
   "execution_count": 313,
   "metadata": {},
   "outputs": [
    {
     "name": "stdout",
     "output_type": "stream",
     "text": [
      "Id: 252000 unique variables\n",
      "Income: 41920 unique variables\n",
      "Age: 59 unique variables\n",
      "Experience: 21 unique variables\n",
      "CURRENT_JOB_YRS: 15 unique variables\n",
      "CURRENT_HOUSE_YRS: 5 unique variables\n",
      "Risk_Flag: 2 unique variables\n"
     ]
    }
   ],
   "source": [
    "# Unique values in each column\n",
    "num = df.select_dtypes([\"int\", \"float\"]).columns\n",
    "\n",
    "for num_columns in num:\n",
    "    print(f\"{num_columns}: {df[num_columns].nunique()} unique variables\")"
   ]
  },
  {
   "cell_type": "code",
   "execution_count": 314,
   "metadata": {},
   "outputs": [
    {
     "data": {
      "text/plain": [
       "array(['mechanical_engineer', 'software_developer', 'technical_writer',\n",
       "       'civil_servant', 'librarian', 'economist', 'flight_attendant',\n",
       "       'architect', 'designer', 'physician', 'financial_analyst',\n",
       "       'air_traffic_controller', 'politician', 'police_officer', 'artist',\n",
       "       'surveyor', 'design_engineer', 'chemical_engineer',\n",
       "       'hotel_manager', 'dentist', 'comedian', 'biomedical_engineer',\n",
       "       'graphic_designer', 'computer_hardware_engineer',\n",
       "       'petroleum_engineer', 'secretary', 'computer_operator',\n",
       "       'chartered_accountant', 'technician', 'microbiologist',\n",
       "       'fashion_designer', 'aviator', 'psychologist', 'magistrate',\n",
       "       'lawyer', 'firefighter', 'engineer', 'official', 'analyst',\n",
       "       'geologist', 'drafter', 'statistician', 'web_designer',\n",
       "       'consultant', 'chef', 'army_officer', 'surgeon', 'scientist',\n",
       "       'civil_engineer', 'industrial_engineer', 'technology_specialist'],\n",
       "      dtype=object)"
      ]
     },
     "execution_count": 314,
     "metadata": {},
     "output_type": "execute_result"
    }
   ],
   "source": [
    "# Unique Professions\n",
    "df.Profession.unique()"
   ]
  },
  {
   "cell_type": "code",
   "execution_count": 315,
   "metadata": {},
   "outputs": [
    {
     "data": {
      "text/plain": [
       "51"
      ]
     },
     "execution_count": 315,
     "metadata": {},
     "output_type": "execute_result"
    }
   ],
   "source": [
    "# Number of Unique Professions\n",
    "len(df.Profession.unique())"
   ]
  },
  {
   "cell_type": "code",
   "execution_count": 316,
   "metadata": {},
   "outputs": [
    {
     "data": {
      "text/plain": [
       "physician                     5957\n",
       "statistician                  5806\n",
       "web_designer                  5397\n",
       "psychologist                  5390\n",
       "computer_hardware_engineer    5372\n",
       "drafter                       5359\n",
       "magistrate                    5357\n",
       "fashion_designer              5304\n",
       "air_traffic_controller        5281\n",
       "comedian                      5259\n",
       "industrial_engineer           5250\n",
       "mechanical_engineer           5217\n",
       "chemical_engineer             5205\n",
       "technical_writer              5195\n",
       "hotel_manager                 5178\n",
       "financial_analyst             5167\n",
       "graphic_designer              5166\n",
       "flight_attendant              5128\n",
       "biomedical_engineer           5127\n",
       "secretary                     5061\n",
       "software_developer            5053\n",
       "petroleum_engineer            5041\n",
       "police_officer                5035\n",
       "computer_operator             4990\n",
       "politician                    4944\n",
       "microbiologist                4881\n",
       "technician                    4864\n",
       "artist                        4861\n",
       "lawyer                        4818\n",
       "consultant                    4808\n",
       "dentist                       4782\n",
       "scientist                     4781\n",
       "surgeon                       4772\n",
       "aviator                       4758\n",
       "technology_specialist         4737\n",
       "design_engineer               4729\n",
       "surveyor                      4714\n",
       "geologist                     4672\n",
       "analyst                       4668\n",
       "army_officer                  4661\n",
       "architect                     4657\n",
       "chef                          4635\n",
       "librarian                     4628\n",
       "civil_engineer                4616\n",
       "designer                      4598\n",
       "economist                     4573\n",
       "firefighter                   4507\n",
       "chartered_accountant          4493\n",
       "civil_servant                 4413\n",
       "official                      4087\n",
       "engineer                      4048\n",
       "Name: Profession, dtype: int64"
      ]
     },
     "execution_count": 316,
     "metadata": {},
     "output_type": "execute_result"
    }
   ],
   "source": [
    "df[\"Profession\"].value_counts()"
   ]
  },
  {
   "cell_type": "markdown",
   "metadata": {},
   "source": [
    "### Correlation between features:"
   ]
  },
  {
   "cell_type": "code",
   "execution_count": 317,
   "metadata": {},
   "outputs": [
    {
     "data": {
      "text/html": [
       "<style type=\"text/css\">\n",
       "#T_9c525_row0_col0, #T_9c525_row1_col1, #T_9c525_row2_col2, #T_9c525_row3_col3, #T_9c525_row4_col4, #T_9c525_row5_col5, #T_9c525_row6_col6 {\n",
       "  background-color: #da3b46;\n",
       "  color: #f1f1f1;\n",
       "}\n",
       "#T_9c525_row0_col1, #T_9c525_row2_col1, #T_9c525_row2_col5, #T_9c525_row3_col0, #T_9c525_row3_col6, #T_9c525_row4_col0, #T_9c525_row5_col1, #T_9c525_row5_col2, #T_9c525_row6_col1, #T_9c525_row6_col2, #T_9c525_row6_col3, #T_9c525_row6_col4 {\n",
       "  background-color: #3f7f93;\n",
       "  color: #f1f1f1;\n",
       "}\n",
       "#T_9c525_row0_col2, #T_9c525_row0_col5, #T_9c525_row1_col2, #T_9c525_row3_col2, #T_9c525_row5_col4 {\n",
       "  background-color: #468497;\n",
       "  color: #f1f1f1;\n",
       "}\n",
       "#T_9c525_row0_col3, #T_9c525_row1_col6, #T_9c525_row5_col6 {\n",
       "  background-color: #498698;\n",
       "  color: #f1f1f1;\n",
       "}\n",
       "#T_9c525_row0_col4, #T_9c525_row2_col6, #T_9c525_row6_col5 {\n",
       "  background-color: #438295;\n",
       "  color: #f1f1f1;\n",
       "}\n",
       "#T_9c525_row0_col6 {\n",
       "  background-color: #558e9f;\n",
       "  color: #f1f1f1;\n",
       "}\n",
       "#T_9c525_row1_col0, #T_9c525_row2_col0, #T_9c525_row5_col0 {\n",
       "  background-color: #408094;\n",
       "  color: #f1f1f1;\n",
       "}\n",
       "#T_9c525_row1_col3 {\n",
       "  background-color: #4d889b;\n",
       "  color: #f1f1f1;\n",
       "}\n",
       "#T_9c525_row1_col4, #T_9c525_row4_col2, #T_9c525_row4_col5 {\n",
       "  background-color: #478598;\n",
       "  color: #f1f1f1;\n",
       "}\n",
       "#T_9c525_row1_col5, #T_9c525_row2_col4, #T_9c525_row4_col6 {\n",
       "  background-color: #458396;\n",
       "  color: #f1f1f1;\n",
       "}\n",
       "#T_9c525_row2_col3 {\n",
       "  background-color: #4a8699;\n",
       "  color: #f1f1f1;\n",
       "}\n",
       "#T_9c525_row3_col1, #T_9c525_row4_col1 {\n",
       "  background-color: #428195;\n",
       "  color: #f1f1f1;\n",
       "}\n",
       "#T_9c525_row3_col4 {\n",
       "  background-color: #ebbbbe;\n",
       "  color: #000000;\n",
       "}\n",
       "#T_9c525_row3_col5, #T_9c525_row6_col0 {\n",
       "  background-color: #4b879a;\n",
       "  color: #f1f1f1;\n",
       "}\n",
       "#T_9c525_row4_col3 {\n",
       "  background-color: #ebb8bb;\n",
       "  color: #000000;\n",
       "}\n",
       "#T_9c525_row5_col3 {\n",
       "  background-color: #518b9d;\n",
       "  color: #f1f1f1;\n",
       "}\n",
       "</style>\n",
       "<table id=\"T_9c525\">\n",
       "  <thead>\n",
       "    <tr>\n",
       "      <th class=\"blank level0\" >&nbsp;</th>\n",
       "      <th id=\"T_9c525_level0_col0\" class=\"col_heading level0 col0\" >Id</th>\n",
       "      <th id=\"T_9c525_level0_col1\" class=\"col_heading level0 col1\" >Income</th>\n",
       "      <th id=\"T_9c525_level0_col2\" class=\"col_heading level0 col2\" >Age</th>\n",
       "      <th id=\"T_9c525_level0_col3\" class=\"col_heading level0 col3\" >Experience</th>\n",
       "      <th id=\"T_9c525_level0_col4\" class=\"col_heading level0 col4\" >CURRENT_JOB_YRS</th>\n",
       "      <th id=\"T_9c525_level0_col5\" class=\"col_heading level0 col5\" >CURRENT_HOUSE_YRS</th>\n",
       "      <th id=\"T_9c525_level0_col6\" class=\"col_heading level0 col6\" >Risk_Flag</th>\n",
       "    </tr>\n",
       "  </thead>\n",
       "  <tbody>\n",
       "    <tr>\n",
       "      <th id=\"T_9c525_level0_row0\" class=\"row_heading level0 row0\" >Id</th>\n",
       "      <td id=\"T_9c525_row0_col0\" class=\"data row0 col0\" >1.000000</td>\n",
       "      <td id=\"T_9c525_row0_col1\" class=\"data row0 col1\" >-0.001324</td>\n",
       "      <td id=\"T_9c525_row0_col2\" class=\"data row0 col2\" >-0.001816</td>\n",
       "      <td id=\"T_9c525_row0_col3\" class=\"data row0 col3\" >-0.005810</td>\n",
       "      <td id=\"T_9c525_row0_col4\" class=\"data row0 col4\" >-0.003250</td>\n",
       "      <td id=\"T_9c525_row0_col5\" class=\"data row0 col5\" >0.001972</td>\n",
       "      <td id=\"T_9c525_row0_col6\" class=\"data row0 col6\" >0.032153</td>\n",
       "    </tr>\n",
       "    <tr>\n",
       "      <th id=\"T_9c525_level0_row1\" class=\"row_heading level0 row1\" >Income</th>\n",
       "      <td id=\"T_9c525_row1_col0\" class=\"data row1 col0\" >-0.001324</td>\n",
       "      <td id=\"T_9c525_row1_col1\" class=\"data row1 col1\" >1.000000</td>\n",
       "      <td id=\"T_9c525_row1_col2\" class=\"data row1 col2\" >-0.000652</td>\n",
       "      <td id=\"T_9c525_row1_col3\" class=\"data row1 col3\" >0.006422</td>\n",
       "      <td id=\"T_9c525_row1_col4\" class=\"data row1 col4\" >0.007045</td>\n",
       "      <td id=\"T_9c525_row1_col5\" class=\"data row1 col5\" >-0.002397</td>\n",
       "      <td id=\"T_9c525_row1_col6\" class=\"data row1 col6\" >-0.003091</td>\n",
       "    </tr>\n",
       "    <tr>\n",
       "      <th id=\"T_9c525_level0_row2\" class=\"row_heading level0 row2\" >Age</th>\n",
       "      <td id=\"T_9c525_row2_col0\" class=\"data row2 col0\" >-0.001816</td>\n",
       "      <td id=\"T_9c525_row2_col1\" class=\"data row2 col1\" >-0.000652</td>\n",
       "      <td id=\"T_9c525_row2_col2\" class=\"data row2 col2\" >1.000000</td>\n",
       "      <td id=\"T_9c525_row2_col3\" class=\"data row2 col3\" >-0.001118</td>\n",
       "      <td id=\"T_9c525_row2_col4\" class=\"data row2 col4\" >0.002154</td>\n",
       "      <td id=\"T_9c525_row2_col5\" class=\"data row2 col5\" >-0.020134</td>\n",
       "      <td id=\"T_9c525_row2_col6\" class=\"data row2 col6\" >-0.021809</td>\n",
       "    </tr>\n",
       "    <tr>\n",
       "      <th id=\"T_9c525_level0_row3\" class=\"row_heading level0 row3\" >Experience</th>\n",
       "      <td id=\"T_9c525_row3_col0\" class=\"data row3 col0\" >-0.005810</td>\n",
       "      <td id=\"T_9c525_row3_col1\" class=\"data row3 col1\" >0.006422</td>\n",
       "      <td id=\"T_9c525_row3_col2\" class=\"data row3 col2\" >-0.001118</td>\n",
       "      <td id=\"T_9c525_row3_col3\" class=\"data row3 col3\" >1.000000</td>\n",
       "      <td id=\"T_9c525_row3_col4\" class=\"data row3 col4\" >0.646098</td>\n",
       "      <td id=\"T_9c525_row3_col5\" class=\"data row3 col5\" >0.019309</td>\n",
       "      <td id=\"T_9c525_row3_col6\" class=\"data row3 col6\" >-0.034523</td>\n",
       "    </tr>\n",
       "    <tr>\n",
       "      <th id=\"T_9c525_level0_row4\" class=\"row_heading level0 row4\" >CURRENT_JOB_YRS</th>\n",
       "      <td id=\"T_9c525_row4_col0\" class=\"data row4 col0\" >-0.003250</td>\n",
       "      <td id=\"T_9c525_row4_col1\" class=\"data row4 col1\" >0.007045</td>\n",
       "      <td id=\"T_9c525_row4_col2\" class=\"data row4 col2\" >0.002154</td>\n",
       "      <td id=\"T_9c525_row4_col3\" class=\"data row4 col3\" >0.646098</td>\n",
       "      <td id=\"T_9c525_row4_col4\" class=\"data row4 col4\" >1.000000</td>\n",
       "      <td id=\"T_9c525_row4_col5\" class=\"data row4 col5\" >0.005372</td>\n",
       "      <td id=\"T_9c525_row4_col6\" class=\"data row4 col6\" >-0.016942</td>\n",
       "    </tr>\n",
       "    <tr>\n",
       "      <th id=\"T_9c525_level0_row5\" class=\"row_heading level0 row5\" >CURRENT_HOUSE_YRS</th>\n",
       "      <td id=\"T_9c525_row5_col0\" class=\"data row5 col0\" >0.001972</td>\n",
       "      <td id=\"T_9c525_row5_col1\" class=\"data row5 col1\" >-0.002397</td>\n",
       "      <td id=\"T_9c525_row5_col2\" class=\"data row5 col2\" >-0.020134</td>\n",
       "      <td id=\"T_9c525_row5_col3\" class=\"data row5 col3\" >0.019309</td>\n",
       "      <td id=\"T_9c525_row5_col4\" class=\"data row5 col4\" >0.005372</td>\n",
       "      <td id=\"T_9c525_row5_col5\" class=\"data row5 col5\" >1.000000</td>\n",
       "      <td id=\"T_9c525_row5_col6\" class=\"data row5 col6\" >-0.004375</td>\n",
       "    </tr>\n",
       "    <tr>\n",
       "      <th id=\"T_9c525_level0_row6\" class=\"row_heading level0 row6\" >Risk_Flag</th>\n",
       "      <td id=\"T_9c525_row6_col0\" class=\"data row6 col0\" >0.032153</td>\n",
       "      <td id=\"T_9c525_row6_col1\" class=\"data row6 col1\" >-0.003091</td>\n",
       "      <td id=\"T_9c525_row6_col2\" class=\"data row6 col2\" >-0.021809</td>\n",
       "      <td id=\"T_9c525_row6_col3\" class=\"data row6 col3\" >-0.034523</td>\n",
       "      <td id=\"T_9c525_row6_col4\" class=\"data row6 col4\" >-0.016942</td>\n",
       "      <td id=\"T_9c525_row6_col5\" class=\"data row6 col5\" >-0.004375</td>\n",
       "      <td id=\"T_9c525_row6_col6\" class=\"data row6 col6\" >1.000000</td>\n",
       "    </tr>\n",
       "  </tbody>\n",
       "</table>\n"
      ],
      "text/plain": [
       "<pandas.io.formats.style.Styler at 0x197b276ddf0>"
      ]
     },
     "execution_count": 317,
     "metadata": {},
     "output_type": "execute_result"
    }
   ],
   "source": [
    "# Create the correlation matrix\n",
    "corr = df.corr()\n",
    "\n",
    "# Generate a custom diverging colormap\n",
    "cmap = sns.diverging_palette(220, 10, as_cmap=True)\n",
    "\n",
    "corr.style.background_gradient(cmap=cmap)"
   ]
  },
  {
   "cell_type": "markdown",
   "metadata": {},
   "source": [
    "# Feature Encoding "
   ]
  },
  {
   "cell_type": "code",
   "execution_count": 318,
   "metadata": {},
   "outputs": [],
   "source": [
    "# Importing necessary modules:\n",
    "from sklearn.preprocessing import LabelEncoder\n",
    "from sklearn.preprocessing import OneHotEncoder"
   ]
  },
  {
   "cell_type": "code",
   "execution_count": 319,
   "metadata": {},
   "outputs": [],
   "source": [
    "# Encoding 'Married/Single' and Car_Ownership' columns:\n",
    "label_encoder = LabelEncoder() \n",
    "for column in ['Married/Single','Car_Ownership']: df[column] = label_encoder.fit_transform( df[col] )"
   ]
  },
  {
   "cell_type": "code",
   "execution_count": 320,
   "metadata": {},
   "outputs": [],
   "source": [
    "# Encoding 'House_Ownership' column:\n",
    "onehot_encoder = OneHotEncoder(sparse = False)\n",
    "df['House_Ownership'] = onehot_encoder.fit_transform(df['House_Ownership'].values.reshape(-1, 1))"
   ]
  },
  {
   "cell_type": "code",
   "execution_count": 321,
   "metadata": {},
   "outputs": [
    {
     "data": {
      "text/plain": [
       "0    0.0\n",
       "1    0.0\n",
       "2    0.0\n",
       "3    0.0\n",
       "4    0.0\n",
       "Name: House_Ownership, dtype: float64"
      ]
     },
     "execution_count": 321,
     "metadata": {},
     "output_type": "execute_result"
    }
   ],
   "source": [
    "df['House_Ownership'].head()"
   ]
  },
  {
   "cell_type": "code",
   "execution_count": 322,
   "metadata": {},
   "outputs": [
    {
     "data": {
      "text/html": [
       "<div>\n",
       "<style scoped>\n",
       "    .dataframe tbody tr th:only-of-type {\n",
       "        vertical-align: middle;\n",
       "    }\n",
       "\n",
       "    .dataframe tbody tr th {\n",
       "        vertical-align: top;\n",
       "    }\n",
       "\n",
       "    .dataframe thead th {\n",
       "        text-align: right;\n",
       "    }\n",
       "</style>\n",
       "<table border=\"1\" class=\"dataframe\">\n",
       "  <thead>\n",
       "    <tr style=\"text-align: right;\">\n",
       "      <th></th>\n",
       "      <th>Id</th>\n",
       "      <th>Income</th>\n",
       "      <th>Age</th>\n",
       "      <th>Experience</th>\n",
       "      <th>Married/Single</th>\n",
       "      <th>House_Ownership</th>\n",
       "      <th>Car_Ownership</th>\n",
       "      <th>Profession</th>\n",
       "      <th>CITY</th>\n",
       "      <th>STATE</th>\n",
       "      <th>CURRENT_JOB_YRS</th>\n",
       "      <th>CURRENT_HOUSE_YRS</th>\n",
       "      <th>Risk_Flag</th>\n",
       "    </tr>\n",
       "  </thead>\n",
       "  <tbody>\n",
       "    <tr>\n",
       "      <th>0</th>\n",
       "      <td>1</td>\n",
       "      <td>1303834</td>\n",
       "      <td>23</td>\n",
       "      <td>3</td>\n",
       "      <td>0</td>\n",
       "      <td>0.0</td>\n",
       "      <td>0</td>\n",
       "      <td>mechanical_engineer</td>\n",
       "      <td>rewa</td>\n",
       "      <td>madhya pradesh</td>\n",
       "      <td>3</td>\n",
       "      <td>13</td>\n",
       "      <td>0</td>\n",
       "    </tr>\n",
       "    <tr>\n",
       "      <th>1</th>\n",
       "      <td>2</td>\n",
       "      <td>7574516</td>\n",
       "      <td>40</td>\n",
       "      <td>10</td>\n",
       "      <td>0</td>\n",
       "      <td>0.0</td>\n",
       "      <td>0</td>\n",
       "      <td>software_developer</td>\n",
       "      <td>parbhani</td>\n",
       "      <td>maharashtra</td>\n",
       "      <td>9</td>\n",
       "      <td>13</td>\n",
       "      <td>0</td>\n",
       "    </tr>\n",
       "    <tr>\n",
       "      <th>2</th>\n",
       "      <td>3</td>\n",
       "      <td>3991815</td>\n",
       "      <td>66</td>\n",
       "      <td>4</td>\n",
       "      <td>0</td>\n",
       "      <td>0.0</td>\n",
       "      <td>0</td>\n",
       "      <td>technical_writer</td>\n",
       "      <td>alappuzha</td>\n",
       "      <td>kerala</td>\n",
       "      <td>4</td>\n",
       "      <td>10</td>\n",
       "      <td>0</td>\n",
       "    </tr>\n",
       "    <tr>\n",
       "      <th>3</th>\n",
       "      <td>4</td>\n",
       "      <td>6256451</td>\n",
       "      <td>41</td>\n",
       "      <td>2</td>\n",
       "      <td>1</td>\n",
       "      <td>0.0</td>\n",
       "      <td>1</td>\n",
       "      <td>software_developer</td>\n",
       "      <td>bhubaneswar</td>\n",
       "      <td>odisha</td>\n",
       "      <td>2</td>\n",
       "      <td>12</td>\n",
       "      <td>1</td>\n",
       "    </tr>\n",
       "    <tr>\n",
       "      <th>4</th>\n",
       "      <td>5</td>\n",
       "      <td>5768871</td>\n",
       "      <td>47</td>\n",
       "      <td>11</td>\n",
       "      <td>0</td>\n",
       "      <td>0.0</td>\n",
       "      <td>0</td>\n",
       "      <td>civil_servant</td>\n",
       "      <td>tiruchirappalli</td>\n",
       "      <td>tamil nadu</td>\n",
       "      <td>3</td>\n",
       "      <td>14</td>\n",
       "      <td>1</td>\n",
       "    </tr>\n",
       "  </tbody>\n",
       "</table>\n",
       "</div>"
      ],
      "text/plain": [
       "   Id   Income  Age  Experience  Married/Single  House_Ownership  \\\n",
       "0   1  1303834   23           3               0              0.0   \n",
       "1   2  7574516   40          10               0              0.0   \n",
       "2   3  3991815   66           4               0              0.0   \n",
       "3   4  6256451   41           2               1              0.0   \n",
       "4   5  5768871   47          11               0              0.0   \n",
       "\n",
       "   Car_Ownership           Profession             CITY           STATE  \\\n",
       "0              0  mechanical_engineer             rewa  madhya pradesh   \n",
       "1              0   software_developer         parbhani     maharashtra   \n",
       "2              0     technical_writer        alappuzha          kerala   \n",
       "3              1   software_developer      bhubaneswar          odisha   \n",
       "4              0        civil_servant  tiruchirappalli      tamil nadu   \n",
       "\n",
       "   CURRENT_JOB_YRS  CURRENT_HOUSE_YRS  Risk_Flag  \n",
       "0                3                 13          0  \n",
       "1                9                 13          0  \n",
       "2                4                 10          0  \n",
       "3                2                 12          1  \n",
       "4                3                 14          1  "
      ]
     },
     "execution_count": 322,
     "metadata": {},
     "output_type": "execute_result"
    }
   ],
   "source": [
    "df.head()"
   ]
  },
  {
   "cell_type": "code",
   "execution_count": 323,
   "metadata": {},
   "outputs": [],
   "source": [
    "# Dropping the variables that won't be used during model building:\n",
    "Final_df = df.drop(labels=['Profession', 'CITY', 'STATE'], axis=1)"
   ]
  },
  {
   "cell_type": "code",
   "execution_count": 324,
   "metadata": {},
   "outputs": [
    {
     "data": {
      "text/html": [
       "<div>\n",
       "<style scoped>\n",
       "    .dataframe tbody tr th:only-of-type {\n",
       "        vertical-align: middle;\n",
       "    }\n",
       "\n",
       "    .dataframe tbody tr th {\n",
       "        vertical-align: top;\n",
       "    }\n",
       "\n",
       "    .dataframe thead th {\n",
       "        text-align: right;\n",
       "    }\n",
       "</style>\n",
       "<table border=\"1\" class=\"dataframe\">\n",
       "  <thead>\n",
       "    <tr style=\"text-align: right;\">\n",
       "      <th></th>\n",
       "      <th>Id</th>\n",
       "      <th>Income</th>\n",
       "      <th>Age</th>\n",
       "      <th>Experience</th>\n",
       "      <th>Married/Single</th>\n",
       "      <th>House_Ownership</th>\n",
       "      <th>Car_Ownership</th>\n",
       "      <th>CURRENT_JOB_YRS</th>\n",
       "      <th>CURRENT_HOUSE_YRS</th>\n",
       "      <th>Risk_Flag</th>\n",
       "    </tr>\n",
       "  </thead>\n",
       "  <tbody>\n",
       "    <tr>\n",
       "      <th>0</th>\n",
       "      <td>1</td>\n",
       "      <td>1303834</td>\n",
       "      <td>23</td>\n",
       "      <td>3</td>\n",
       "      <td>0</td>\n",
       "      <td>0.0</td>\n",
       "      <td>0</td>\n",
       "      <td>3</td>\n",
       "      <td>13</td>\n",
       "      <td>0</td>\n",
       "    </tr>\n",
       "    <tr>\n",
       "      <th>1</th>\n",
       "      <td>2</td>\n",
       "      <td>7574516</td>\n",
       "      <td>40</td>\n",
       "      <td>10</td>\n",
       "      <td>0</td>\n",
       "      <td>0.0</td>\n",
       "      <td>0</td>\n",
       "      <td>9</td>\n",
       "      <td>13</td>\n",
       "      <td>0</td>\n",
       "    </tr>\n",
       "    <tr>\n",
       "      <th>2</th>\n",
       "      <td>3</td>\n",
       "      <td>3991815</td>\n",
       "      <td>66</td>\n",
       "      <td>4</td>\n",
       "      <td>0</td>\n",
       "      <td>0.0</td>\n",
       "      <td>0</td>\n",
       "      <td>4</td>\n",
       "      <td>10</td>\n",
       "      <td>0</td>\n",
       "    </tr>\n",
       "    <tr>\n",
       "      <th>3</th>\n",
       "      <td>4</td>\n",
       "      <td>6256451</td>\n",
       "      <td>41</td>\n",
       "      <td>2</td>\n",
       "      <td>1</td>\n",
       "      <td>0.0</td>\n",
       "      <td>1</td>\n",
       "      <td>2</td>\n",
       "      <td>12</td>\n",
       "      <td>1</td>\n",
       "    </tr>\n",
       "    <tr>\n",
       "      <th>4</th>\n",
       "      <td>5</td>\n",
       "      <td>5768871</td>\n",
       "      <td>47</td>\n",
       "      <td>11</td>\n",
       "      <td>0</td>\n",
       "      <td>0.0</td>\n",
       "      <td>0</td>\n",
       "      <td>3</td>\n",
       "      <td>14</td>\n",
       "      <td>1</td>\n",
       "    </tr>\n",
       "  </tbody>\n",
       "</table>\n",
       "</div>"
      ],
      "text/plain": [
       "   Id   Income  Age  Experience  Married/Single  House_Ownership  \\\n",
       "0   1  1303834   23           3               0              0.0   \n",
       "1   2  7574516   40          10               0              0.0   \n",
       "2   3  3991815   66           4               0              0.0   \n",
       "3   4  6256451   41           2               1              0.0   \n",
       "4   5  5768871   47          11               0              0.0   \n",
       "\n",
       "   Car_Ownership  CURRENT_JOB_YRS  CURRENT_HOUSE_YRS  Risk_Flag  \n",
       "0              0                3                 13          0  \n",
       "1              0                9                 13          0  \n",
       "2              0                4                 10          0  \n",
       "3              1                2                 12          1  \n",
       "4              0                3                 14          1  "
      ]
     },
     "execution_count": 324,
     "metadata": {},
     "output_type": "execute_result"
    }
   ],
   "source": [
    "Final_df.head()"
   ]
  },
  {
   "cell_type": "markdown",
   "metadata": {
    "collapsed": true
   },
   "source": [
    "### Splitting the data into train and test data"
   ]
  },
  {
   "cell_type": "code",
   "execution_count": 325,
   "metadata": {},
   "outputs": [],
   "source": [
    "# Input variable and target variable:\n",
    "x = Final_df.drop(\"Risk_Flag\", axis=1)\n",
    "y = Final_df[\"Risk_Flag\"]"
   ]
  },
  {
   "cell_type": "code",
   "execution_count": 326,
   "metadata": {},
   "outputs": [],
   "source": [
    "from sklearn.model_selection import train_test_split\n",
    "x_train, x_test, y_train, y_test = train_test_split(x, y, test_size = 0.2, stratify = y, random_state = 7)"
   ]
  },
  {
   "cell_type": "markdown",
   "metadata": {},
   "source": [
    "# Random Forest Classifier"
   ]
  },
  {
   "cell_type": "code",
   "execution_count": 328,
   "metadata": {},
   "outputs": [],
   "source": [
    "# Train the model and perform the predictions:\n",
    "from sklearn.ensemble import RandomForestClassifier\n",
    "from imblearn.over_sampling import SMOTE\n",
    "from imblearn.pipeline import Pipeline"
   ]
  },
  {
   "cell_type": "code",
   "execution_count": 329,
   "metadata": {},
   "outputs": [],
   "source": [
    "RandomForest_cls = RandomForestClassifier(criterion='gini', bootstrap=True, random_state=100)\n",
    "smote_sampler = SMOTE(random_state=9)\n",
    "model = Pipeline(steps = [['smote', smote_sampler],\n",
    "                             ['classifier', RandomForest_cls]])\n",
    "model.fit(x_train, y_train)\n",
    "y_pred = model.predict(x_test)"
   ]
  },
  {
   "cell_type": "markdown",
   "metadata": {},
   "source": [
    "### Random Forest Classifier  Metrics:"
   ]
  },
  {
   "cell_type": "code",
   "execution_count": 330,
   "metadata": {},
   "outputs": [
    {
     "name": "stdout",
     "output_type": "stream",
     "text": [
      "-------------------------TEST SCORES-----------------------\n",
      "Recall: 59.6548\n",
      "Precision: 42.6971\n",
      "F1-Score: 49.7712\n",
      "Accuracy score: 85.1905\n",
      "AUC Score: 74.2133\n"
     ]
    }
   ],
   "source": [
    "from sklearn.metrics import confusion_matrix, precision_score, recall_score, f1_score, accuracy_score, roc_auc_score\n",
    "print(\"-------------------------TEST SCORES-----------------------\") \n",
    "print(f\"Recall: { round(recall_score(y_test, y_pred)*100, 4) }\")\n",
    "print(f\"Precision: { round(precision_score(y_test, y_pred)*100, 4) }\")\n",
    "print(f\"F1-Score: { round(f1_score(y_test, y_pred)*100, 4) }\")\n",
    "print(f\"Accuracy score: { round(accuracy_score(y_test, y_pred)*100, 4) }\")\n",
    "print(f\"AUC Score: { round(roc_auc_score(y_test, y_pred)*100, 4) }\")"
   ]
  },
  {
   "cell_type": "code",
   "execution_count": 331,
   "metadata": {},
   "outputs": [
    {
     "name": "stdout",
     "output_type": "stream",
     "text": [
      "ROC curve for RandomForestClassifier: \n"
     ]
    },
    {
     "data": {
      "image/png": "[encoded data removed]",
      "text/plain": [
       "<Figure size 432x288 with 1 Axes>"
      ]
     },
     "metadata": {
      "needs_background": "light"
     },
     "output_type": "display_data"
    },
    {
     "name": "stdout",
     "output_type": "stream",
     "text": [
      "AUC Score:  0.7421326513752916\n"
     ]
    }
   ],
   "source": [
    "#Logistic Regression Roc curve\n",
    "print(\"ROC curve for RandomForestClassifier: \")\n",
    "\n",
    "# AUC and ROC Curve Function:\n",
    "def auc_roc_curve_plot(y_test=None, preds=None):\n",
    "    fpr,tpr,_=metrics.roc_curve(y_test,preds)\n",
    "    auc=metrics.roc_auc_score(y_test,preds)\n",
    "    plt.plot(fpr,tpr,label='Data,auc='+str(auc))\n",
    "    plt.legend(loc=4)\n",
    "    plt.show()\n",
    "    print(\"AUC Score: \", auc)\n",
    "    \n",
    "\n",
    "auc_roc_curve_plot(y_test,y_pred)\n",
    " "
   ]
  },
  {
   "cell_type": "markdown",
   "metadata": {
    "collapsed": true
   },
   "source": [
    "### Logistic Regression"
   ]
  },
  {
   "cell_type": "code",
   "execution_count": 332,
   "metadata": {},
   "outputs": [],
   "source": [
    "#Importing LogisticRegression:\n",
    "\n",
    "from sklearn.linear_model import LogisticRegression"
   ]
  },
  {
   "cell_type": "code",
   "execution_count": 333,
   "metadata": {},
   "outputs": [],
   "source": [
    "log_reg = LogisticRegression(penalty='l2',max_iter=50,C=5,class_weight='balanced')\n",
    "log_reg.fit(x_train, y_train)\n",
    "y_pred = log_reg.predict(x_test)\n",
    "# print(y_test, y_pred)"
   ]
  },
  {
   "cell_type": "markdown",
   "metadata": {},
   "source": [
    "### Logistic Regression Metrics:"
   ]
  },
  {
   "cell_type": "code",
   "execution_count": 334,
   "metadata": {},
   "outputs": [
    {
     "name": "stdout",
     "output_type": "stream",
     "text": [
      "-------------------------TEST SCORES-----------------------\n",
      "Recall: 63.1231\n",
      "Precision: 12.7124\n",
      "F1-Score: 21.1628\n",
      "Accuracy score: 42.1548\n",
      "AUC Score: 51.1686\n"
     ]
    }
   ],
   "source": [
    "from sklearn.metrics import confusion_matrix, precision_score, recall_score, f1_score, accuracy_score, roc_auc_score\n",
    "print(\"-------------------------TEST SCORES-----------------------\") \n",
    "print(f\"Recall: { round(recall_score(y_test, y_pred)*100, 4) }\")\n",
    "print(f\"Precision: { round(precision_score(y_test, y_pred)*100, 4) }\")\n",
    "print(f\"F1-Score: { round(f1_score(y_test, y_pred)*100, 4) }\")\n",
    "print(f\"Accuracy score: { round(accuracy_score(y_test, y_pred)*100, 4) }\")\n",
    "print(f\"AUC Score: { round(roc_auc_score(y_test, y_pred)*100, 4) }\")"
   ]
  },
  {
   "cell_type": "code",
   "execution_count": 335,
   "metadata": {},
   "outputs": [
    {
     "name": "stdout",
     "output_type": "stream",
     "text": [
      "ROC curve for Logistic Regression: \n"
     ]
    },
    {
     "data": {
      "image/png": "[encoded data removed]",
      "text/plain": [
       "<Figure size 432x288 with 1 Axes>"
      ]
     },
     "metadata": {
      "needs_background": "light"
     },
     "output_type": "display_data"
    },
    {
     "name": "stdout",
     "output_type": "stream",
     "text": [
      "AUC Score:  0.5116856464977835\n"
     ]
    }
   ],
   "source": [
    "#Logistic Regression Roc curve\n",
    "print(\"ROC curve for Logistic Regression: \")\n",
    "\n",
    "# AUC and ROC Curve Function:\n",
    "def auc_roc_curve_plot(y_test=None, preds=None):\n",
    "    fpr,tpr,_=metrics.roc_curve(y_test,preds)\n",
    "    auc=metrics.roc_auc_score(y_test,preds)\n",
    "    plt.plot(fpr,tpr,label='Data,auc='+str(auc))\n",
    "    plt.legend(loc=4)\n",
    "    plt.show()\n",
    "    print(\"AUC Score: \", auc)\n",
    "    \n",
    "\n",
    "auc_roc_curve_plot(y_test,y_pred)"
   ]
  },
  {
   "cell_type": "markdown",
   "metadata": {},
   "source": [
    "###  Decision Tree"
   ]
  },
  {
   "cell_type": "code",
   "execution_count": 344,
   "metadata": {},
   "outputs": [],
   "source": [
    "# Importing tree:\n",
    "\n",
    "from sklearn import tree"
   ]
  },
  {
   "cell_type": "code",
   "execution_count": 345,
   "metadata": {},
   "outputs": [],
   "source": [
    "Decision_T1 = tree.DecisionTreeClassifier(max_depth=None,random_state=None, class_weight=None)\n",
    "Decision_T1.fit(x_train, y_train)\n",
    "y_pred = Decision_T1.predict(x_test)"
   ]
  },
  {
   "cell_type": "markdown",
   "metadata": {},
   "source": [
    "### Decision Tree Metrics:"
   ]
  },
  {
   "cell_type": "code",
   "execution_count": 346,
   "metadata": {},
   "outputs": [
    {
     "name": "stdout",
     "output_type": "stream",
     "text": [
      "-------------------------TEST SCORES-----------------------\n",
      "Recall: 39.458\n",
      "Precision: 37.1789\n",
      "F1-Score: 38.2846\n",
      "Accuracy score: 84.3532\n",
      "AUC Score: 65.0538\n"
     ]
    }
   ],
   "source": [
    "from sklearn.metrics import confusion_matrix, precision_score, recall_score, f1_score, accuracy_score, roc_auc_score\n",
    "print(\"-------------------------TEST SCORES-----------------------\") \n",
    "print(f\"Recall: { round(recall_score(y_test, y_pred)*100, 4) }\")\n",
    "print(f\"Precision: { round(precision_score(y_test, y_pred)*100, 4) }\")\n",
    "print(f\"F1-Score: { round(f1_score(y_test, y_pred)*100, 4) }\")\n",
    "print(f\"Accuracy score: { round(accuracy_score(y_test, y_pred)*100, 4) }\")\n",
    "print(f\"AUC Score: { round(roc_auc_score(y_test, y_pred)*100, 4) }\")"
   ]
  },
  {
   "cell_type": "code",
   "execution_count": 347,
   "metadata": {},
   "outputs": [
    {
     "name": "stdout",
     "output_type": "stream",
     "text": [
      "ROC curve for Decision Tree: \n"
     ]
    },
    {
     "data": {
      "image/png": "[encoded data removed]",
      "text/plain": [
       "<Figure size 432x288 with 1 Axes>"
      ]
     },
     "metadata": {
      "needs_background": "light"
     },
     "output_type": "display_data"
    },
    {
     "name": "stdout",
     "output_type": "stream",
     "text": [
      "AUC Score:  0.6505375495453958\n"
     ]
    }
   ],
   "source": [
    "#Logistic Regression Roc curve\n",
    "print(\"ROC curve for Decision Tree: \")\n",
    "\n",
    "# AUC and ROC Curve Function:\n",
    "def auc_roc_curve_plot(y_test=None, preds=None):\n",
    "    fpr,tpr,_=metrics.roc_curve(y_test,preds)\n",
    "    auc=metrics.roc_auc_score(y_test,preds)\n",
    "    plt.plot(fpr,tpr,label='Data,auc='+str(auc))\n",
    "    plt.legend(loc=4)\n",
    "    plt.show()\n",
    "    print(\"AUC Score: \", auc)\n",
    "    \n",
    "\n",
    "auc_roc_curve_plot(y_test,y_pred)"
   ]
  },
  {
   "cell_type": "markdown",
   "metadata": {},
   "source": [
    "# Conclusion:\n",
    "Based on the evaluation metrics results, it can be concluded that the Random Forest Classifier outperformed the other two models in predicting loan defaults. It has the highest accuracy score of 85.19%, which is significantly better than the other models. The Random Forest Classifier also has the highest Recall score of 59.65%, which means it correctly identified more default cases than the other two models. Additionally, the Random Forest Classifier has the highest AUC score of 74.21%, indicating that it has a better ability to distinguish between positive and negative cases.\n"
   ]
  }
 ],
 "metadata": {
  "celltoolbar": "Raw Cell Format",
  "kernelspec": {
   "display_name": "Python 3 (ipykernel)",
   "language": "python",
   "name": "python3"
  },
  "language_info": {
   "codemirror_mode": {
    "name": "ipython",
    "version": 3
   },
   "file_extension": ".py",
   "mimetype": "text/x-python",
   "name": "python",
   "nbconvert_exporter": "python",
   "pygments_lexer": "ipython3",
   "version": "3.9.12"
  }
 },
 "nbformat": 4,
 "nbformat_minor": 2
}
